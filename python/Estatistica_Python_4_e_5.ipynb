{
 "cells": [
  {
   "cell_type": "code",
   "execution_count": 16,
   "metadata": {
    "colab": {
     "base_uri": "https://localhost:8080/",
     "height": 198
    },
    "id": "hHsiXbYqMqTP",
    "outputId": "89d0834b-ba2b-4c29-9d02-2978ade4d6b4"
   },
   "outputs": [
    {
     "data": {
      "text/html": [
       "<div>\n",
       "<style scoped>\n",
       "    .dataframe tbody tr th:only-of-type {\n",
       "        vertical-align: middle;\n",
       "    }\n",
       "\n",
       "    .dataframe tbody tr th {\n",
       "        vertical-align: top;\n",
       "    }\n",
       "\n",
       "    .dataframe thead th {\n",
       "        text-align: right;\n",
       "    }\n",
       "</style>\n",
       "<table border=\"1\" class=\"dataframe\">\n",
       "  <thead>\n",
       "    <tr style=\"text-align: right;\">\n",
       "      <th></th>\n",
       "      <th>formula</th>\n",
       "      <th>c</th>\n",
       "      <th>mn</th>\n",
       "      <th>si</th>\n",
       "      <th>cr</th>\n",
       "      <th>ni</th>\n",
       "      <th>mo</th>\n",
       "      <th>v</th>\n",
       "      <th>n</th>\n",
       "      <th>nb</th>\n",
       "      <th>co</th>\n",
       "      <th>w</th>\n",
       "      <th>al</th>\n",
       "      <th>ti</th>\n",
       "      <th>yield strength</th>\n",
       "      <th>tensile strength</th>\n",
       "      <th>elongation</th>\n",
       "    </tr>\n",
       "  </thead>\n",
       "  <tbody>\n",
       "    <tr>\n",
       "      <th>0</th>\n",
       "      <td>Fe0.620C0.000953Mn0.000521Si0.00102Cr0.000110N...</td>\n",
       "      <td>0.02</td>\n",
       "      <td>0.05</td>\n",
       "      <td>0.05</td>\n",
       "      <td>0.01</td>\n",
       "      <td>19.70</td>\n",
       "      <td>2.95</td>\n",
       "      <td>0.01</td>\n",
       "      <td>0.00</td>\n",
       "      <td>0.01</td>\n",
       "      <td>15.00</td>\n",
       "      <td>0.00</td>\n",
       "      <td>0.15</td>\n",
       "      <td>1.55</td>\n",
       "      <td>2411.5</td>\n",
       "      <td>2473.5</td>\n",
       "      <td>7.0</td>\n",
       "    </tr>\n",
       "    <tr>\n",
       "      <th>1</th>\n",
       "      <td>Fe0.623C0.00854Mn0.000104Si0.000203Cr0.147Ni0....</td>\n",
       "      <td>0.18</td>\n",
       "      <td>0.01</td>\n",
       "      <td>0.01</td>\n",
       "      <td>13.44</td>\n",
       "      <td>0.01</td>\n",
       "      <td>3.01</td>\n",
       "      <td>0.46</td>\n",
       "      <td>0.04</td>\n",
       "      <td>0.01</td>\n",
       "      <td>19.46</td>\n",
       "      <td>2.35</td>\n",
       "      <td>0.04</td>\n",
       "      <td>0.00</td>\n",
       "      <td>1123.1</td>\n",
       "      <td>1929.2</td>\n",
       "      <td>8.0</td>\n",
       "    </tr>\n",
       "    <tr>\n",
       "      <th>2</th>\n",
       "      <td>Fe0.625Mn0.000102Si0.000200Cr0.0936Ni0.129Mo0....</td>\n",
       "      <td>0.00</td>\n",
       "      <td>0.01</td>\n",
       "      <td>0.01</td>\n",
       "      <td>8.67</td>\n",
       "      <td>13.45</td>\n",
       "      <td>0.82</td>\n",
       "      <td>0.01</td>\n",
       "      <td>0.00</td>\n",
       "      <td>0.01</td>\n",
       "      <td>13.90</td>\n",
       "      <td>0.00</td>\n",
       "      <td>0.39</td>\n",
       "      <td>0.57</td>\n",
       "      <td>1736.3</td>\n",
       "      <td>1871.8</td>\n",
       "      <td>NaN</td>\n",
       "    </tr>\n",
       "    <tr>\n",
       "      <th>3</th>\n",
       "      <td>Fe0.634C0.000478Mn0.000523Si0.00102Cr0.000111N...</td>\n",
       "      <td>0.01</td>\n",
       "      <td>0.05</td>\n",
       "      <td>0.05</td>\n",
       "      <td>0.01</td>\n",
       "      <td>17.70</td>\n",
       "      <td>3.95</td>\n",
       "      <td>0.01</td>\n",
       "      <td>0.00</td>\n",
       "      <td>0.01</td>\n",
       "      <td>15.00</td>\n",
       "      <td>0.00</td>\n",
       "      <td>0.13</td>\n",
       "      <td>1.47</td>\n",
       "      <td>2487.3</td>\n",
       "      <td>2514.9</td>\n",
       "      <td>9.0</td>\n",
       "    </tr>\n",
       "    <tr>\n",
       "      <th>4</th>\n",
       "      <td>Fe0.636C0.000474Mn0.000518Si0.00101Cr0.000109N...</td>\n",
       "      <td>0.01</td>\n",
       "      <td>0.05</td>\n",
       "      <td>0.05</td>\n",
       "      <td>0.01</td>\n",
       "      <td>19.40</td>\n",
       "      <td>1.45</td>\n",
       "      <td>0.01</td>\n",
       "      <td>0.00</td>\n",
       "      <td>0.01</td>\n",
       "      <td>14.90</td>\n",
       "      <td>0.00</td>\n",
       "      <td>0.13</td>\n",
       "      <td>1.55</td>\n",
       "      <td>2249.6</td>\n",
       "      <td>2315.0</td>\n",
       "      <td>8.5</td>\n",
       "    </tr>\n",
       "  </tbody>\n",
       "</table>\n",
       "</div>"
      ],
      "text/plain": [
       "                                             formula     c    mn    si     cr  \\\n",
       "0  Fe0.620C0.000953Mn0.000521Si0.00102Cr0.000110N...  0.02  0.05  0.05   0.01   \n",
       "1  Fe0.623C0.00854Mn0.000104Si0.000203Cr0.147Ni0....  0.18  0.01  0.01  13.44   \n",
       "2  Fe0.625Mn0.000102Si0.000200Cr0.0936Ni0.129Mo0....  0.00  0.01  0.01   8.67   \n",
       "3  Fe0.634C0.000478Mn0.000523Si0.00102Cr0.000111N...  0.01  0.05  0.05   0.01   \n",
       "4  Fe0.636C0.000474Mn0.000518Si0.00101Cr0.000109N...  0.01  0.05  0.05   0.01   \n",
       "\n",
       "      ni    mo     v     n    nb     co     w    al    ti  yield strength  \\\n",
       "0  19.70  2.95  0.01  0.00  0.01  15.00  0.00  0.15  1.55          2411.5   \n",
       "1   0.01  3.01  0.46  0.04  0.01  19.46  2.35  0.04  0.00          1123.1   \n",
       "2  13.45  0.82  0.01  0.00  0.01  13.90  0.00  0.39  0.57          1736.3   \n",
       "3  17.70  3.95  0.01  0.00  0.01  15.00  0.00  0.13  1.47          2487.3   \n",
       "4  19.40  1.45  0.01  0.00  0.01  14.90  0.00  0.13  1.55          2249.6   \n",
       "\n",
       "   tensile strength  elongation  \n",
       "0            2473.5         7.0  \n",
       "1            1929.2         8.0  \n",
       "2            1871.8         NaN  \n",
       "3            2514.9         9.0  \n",
       "4            2315.0         8.5  "
      ]
     },
     "execution_count": 16,
     "metadata": {},
     "output_type": "execute_result"
    }
   ],
   "source": [
    "from scipy.stats import normaltest\n",
    "import pandas as pd\n",
    "populacao = pd.read_csv('steel_strength.csv')\n",
    "populacao.head()"
   ]
  },
  {
   "cell_type": "code",
   "execution_count": 19,
   "metadata": {
    "colab": {
     "base_uri": "https://localhost:8080/",
     "height": 198
    },
    "id": "jbmfpqN2wAqr",
    "outputId": "5a79fdf4-1d37-44e6-a38d-1e4ffd711160"
   },
   "outputs": [
    {
     "data": {
      "text/html": [
       "<div>\n",
       "<style scoped>\n",
       "    .dataframe tbody tr th:only-of-type {\n",
       "        vertical-align: middle;\n",
       "    }\n",
       "\n",
       "    .dataframe tbody tr th {\n",
       "        vertical-align: top;\n",
       "    }\n",
       "\n",
       "    .dataframe thead th {\n",
       "        text-align: right;\n",
       "    }\n",
       "</style>\n",
       "<table border=\"1\" class=\"dataframe\">\n",
       "  <thead>\n",
       "    <tr style=\"text-align: right;\">\n",
       "      <th></th>\n",
       "      <th>formula</th>\n",
       "      <th>c</th>\n",
       "      <th>mn</th>\n",
       "      <th>si</th>\n",
       "      <th>cr</th>\n",
       "      <th>ni</th>\n",
       "      <th>mo</th>\n",
       "      <th>v</th>\n",
       "      <th>n</th>\n",
       "      <th>nb</th>\n",
       "      <th>co</th>\n",
       "      <th>w</th>\n",
       "      <th>al</th>\n",
       "      <th>ti</th>\n",
       "      <th>yield strength</th>\n",
       "      <th>tensile strength</th>\n",
       "      <th>elongation</th>\n",
       "    </tr>\n",
       "  </thead>\n",
       "  <tbody>\n",
       "    <tr>\n",
       "      <th>199</th>\n",
       "      <td>Fe0.754C0.00599Mn0.0101Si0.00493Cr0.165Ni0.039...</td>\n",
       "      <td>0.13</td>\n",
       "      <td>1.00</td>\n",
       "      <td>0.25</td>\n",
       "      <td>15.50</td>\n",
       "      <td>4.20</td>\n",
       "      <td>2.75</td>\n",
       "      <td>0.01</td>\n",
       "      <td>0.1</td>\n",
       "      <td>0.01</td>\n",
       "      <td>0.01</td>\n",
       "      <td>0.0</td>\n",
       "      <td>0.03</td>\n",
       "      <td>0.00</td>\n",
       "      <td>1155.0</td>\n",
       "      <td>1409.1</td>\n",
       "      <td>14.0</td>\n",
       "    </tr>\n",
       "    <tr>\n",
       "      <th>3</th>\n",
       "      <td>Fe0.634C0.000478Mn0.000523Si0.00102Cr0.000111N...</td>\n",
       "      <td>0.01</td>\n",
       "      <td>0.05</td>\n",
       "      <td>0.05</td>\n",
       "      <td>0.01</td>\n",
       "      <td>17.70</td>\n",
       "      <td>3.95</td>\n",
       "      <td>0.01</td>\n",
       "      <td>0.0</td>\n",
       "      <td>0.01</td>\n",
       "      <td>15.00</td>\n",
       "      <td>0.0</td>\n",
       "      <td>0.13</td>\n",
       "      <td>1.47</td>\n",
       "      <td>2487.3</td>\n",
       "      <td>2514.9</td>\n",
       "      <td>9.0</td>\n",
       "    </tr>\n",
       "    <tr>\n",
       "      <th>295</th>\n",
       "      <td>Fe0.808C0.0201Mn0.00214Si0.000200Cr0.0770Ni0.0...</td>\n",
       "      <td>0.43</td>\n",
       "      <td>0.21</td>\n",
       "      <td>0.01</td>\n",
       "      <td>7.14</td>\n",
       "      <td>0.01</td>\n",
       "      <td>5.62</td>\n",
       "      <td>1.02</td>\n",
       "      <td>0.0</td>\n",
       "      <td>0.01</td>\n",
       "      <td>4.99</td>\n",
       "      <td>0.0</td>\n",
       "      <td>0.03</td>\n",
       "      <td>0.00</td>\n",
       "      <td>1736.3</td>\n",
       "      <td>2039.4</td>\n",
       "      <td>6.0</td>\n",
       "    </tr>\n",
       "    <tr>\n",
       "      <th>261</th>\n",
       "      <td>Fe0.788Mn0.000104Si0.000203Cr0.000109Ni0.176Mo...</td>\n",
       "      <td>0.00</td>\n",
       "      <td>0.01</td>\n",
       "      <td>0.01</td>\n",
       "      <td>0.01</td>\n",
       "      <td>18.10</td>\n",
       "      <td>3.10</td>\n",
       "      <td>0.01</td>\n",
       "      <td>0.0</td>\n",
       "      <td>0.01</td>\n",
       "      <td>0.01</td>\n",
       "      <td>0.0</td>\n",
       "      <td>0.05</td>\n",
       "      <td>1.40</td>\n",
       "      <td>1716.3</td>\n",
       "      <td>1833.4</td>\n",
       "      <td>13.0</td>\n",
       "    </tr>\n",
       "    <tr>\n",
       "      <th>68</th>\n",
       "      <td>Fe0.682C0.00925Mn0.000101Si0.0101Cr0.134Ni0.00...</td>\n",
       "      <td>0.20</td>\n",
       "      <td>0.01</td>\n",
       "      <td>0.51</td>\n",
       "      <td>12.51</td>\n",
       "      <td>0.95</td>\n",
       "      <td>1.98</td>\n",
       "      <td>0.01</td>\n",
       "      <td>0.0</td>\n",
       "      <td>0.08</td>\n",
       "      <td>15.16</td>\n",
       "      <td>0.0</td>\n",
       "      <td>0.03</td>\n",
       "      <td>0.00</td>\n",
       "      <td>1314.2</td>\n",
       "      <td>1775.6</td>\n",
       "      <td>15.3</td>\n",
       "    </tr>\n",
       "  </tbody>\n",
       "</table>\n",
       "</div>"
      ],
      "text/plain": [
       "                                               formula     c    mn    si  \\\n",
       "199  Fe0.754C0.00599Mn0.0101Si0.00493Cr0.165Ni0.039...  0.13  1.00  0.25   \n",
       "3    Fe0.634C0.000478Mn0.000523Si0.00102Cr0.000111N...  0.01  0.05  0.05   \n",
       "295  Fe0.808C0.0201Mn0.00214Si0.000200Cr0.0770Ni0.0...  0.43  0.21  0.01   \n",
       "261  Fe0.788Mn0.000104Si0.000203Cr0.000109Ni0.176Mo...  0.00  0.01  0.01   \n",
       "68   Fe0.682C0.00925Mn0.000101Si0.0101Cr0.134Ni0.00...  0.20  0.01  0.51   \n",
       "\n",
       "        cr     ni    mo     v    n    nb     co    w    al    ti  \\\n",
       "199  15.50   4.20  2.75  0.01  0.1  0.01   0.01  0.0  0.03  0.00   \n",
       "3     0.01  17.70  3.95  0.01  0.0  0.01  15.00  0.0  0.13  1.47   \n",
       "295   7.14   0.01  5.62  1.02  0.0  0.01   4.99  0.0  0.03  0.00   \n",
       "261   0.01  18.10  3.10  0.01  0.0  0.01   0.01  0.0  0.05  1.40   \n",
       "68   12.51   0.95  1.98  0.01  0.0  0.08  15.16  0.0  0.03  0.00   \n",
       "\n",
       "     yield strength  tensile strength  elongation  \n",
       "199          1155.0            1409.1        14.0  \n",
       "3            2487.3            2514.9         9.0  \n",
       "295          1736.3            2039.4         6.0  \n",
       "261          1716.3            1833.4        13.0  \n",
       "68           1314.2            1775.6        15.3  "
      ]
     },
     "execution_count": 19,
     "metadata": {},
     "output_type": "execute_result"
    }
   ],
   "source": [
    "amostra = populacao[populacao['mo']>0.5].sample(100)\n",
    "amostra.head()"
   ]
  },
  {
   "cell_type": "markdown",
   "metadata": {
    "id": "CGheiW_mMe_e"
   },
   "source": [
    "# Teste de Normalidade"
   ]
  },
  {
   "cell_type": "markdown",
   "metadata": {
    "id": "roREWwiEM6O7"
   },
   "source": [
    "A função shapiro.test testa a hipótese nula  𝐻0  de que a amostra é proveniente de uma distribuição normal, ou seja, os dados são normalmente distribuídos.\n",
    "**Rejeitar  𝐻0 (ser normal) se o valor  𝑝≤𝛼**"
   ]
  },
  {
   "cell_type": "code",
   "execution_count": 20,
   "metadata": {
    "colab": {
     "base_uri": "https://localhost:8080/",
     "height": 351
    },
    "id": "R44wNA6OOh4v",
    "outputId": "4f24a6b0-d392-4779-d681-7e6c72540b0c"
   },
   "outputs": [
    {
     "name": "stderr",
     "output_type": "stream",
     "text": [
      "C:\\ProgramData\\Anaconda3\\lib\\site-packages\\seaborn\\distributions.py:2619: FutureWarning: `distplot` is a deprecated function and will be removed in a future version. Please adapt your code to use either `displot` (a figure-level function with similar flexibility) or `histplot` (an axes-level function for histograms).\n",
      "  warnings.warn(msg, FutureWarning)\n"
     ]
    },
    {
     "data": {
      "text/plain": [
       "<AxesSubplot:xlabel='mo', ylabel='Density'>"
      ]
     },
     "execution_count": 20,
     "metadata": {},
     "output_type": "execute_result"
    },
    {
     "data": {
      "image/png": "[encoded data removed]",
      "text/plain": [
       "<Figure size 432x288 with 1 Axes>"
      ]
     },
     "metadata": {
      "needs_background": "light"
     },
     "output_type": "display_data"
    }
   ],
   "source": [
    "import seaborn as sns\n",
    "sns.distplot(amostra['mo'])"
   ]
  },
  {
   "cell_type": "code",
   "execution_count": 22,
   "metadata": {
    "colab": {
     "base_uri": "https://localhost:8080/"
    },
    "id": "Nj2q4zXt4Xua",
    "outputId": "cd544ee8-9080-4509-dc69-35c911c988d0"
   },
   "outputs": [
    {
     "data": {
      "text/plain": [
       "NormaltestResult(statistic=9.768736573167285, pvalue=0.007563900470534499)"
      ]
     },
     "execution_count": 22,
     "metadata": {},
     "output_type": "execute_result"
    }
   ],
   "source": [
    "normaltest(amostra['mo'])"
   ]
  },
  {
   "cell_type": "markdown",
   "metadata": {
    "id": "RudKyjRyNydH"
   },
   "source": [
    "p valor menor que significancia 5%, entao rejeita H0, ser normal, logo nao eh normal[texto do link  "
   ]
  },
  {
   "cell_type": "code",
   "execution_count": 23,
   "metadata": {
    "colab": {
     "base_uri": "https://localhost:8080/",
     "height": 351
    },
    "id": "ySlcXk9ZOv0H",
    "outputId": "551d519e-b4e9-4599-a363-a4de30096a3d"
   },
   "outputs": [
    {
     "name": "stderr",
     "output_type": "stream",
     "text": [
      "C:\\ProgramData\\Anaconda3\\lib\\site-packages\\seaborn\\distributions.py:2619: FutureWarning: `distplot` is a deprecated function and will be removed in a future version. Please adapt your code to use either `displot` (a figure-level function with similar flexibility) or `histplot` (an axes-level function for histograms).\n",
      "  warnings.warn(msg, FutureWarning)\n"
     ]
    },
    {
     "data": {
      "text/plain": [
       "<AxesSubplot:xlabel='ti', ylabel='Density'>"
      ]
     },
     "execution_count": 23,
     "metadata": {},
     "output_type": "execute_result"
    },
    {
     "data": {
      "image/png": "[encoded data removed]",
      "text/plain": [
       "<Figure size 432x288 with 1 Axes>"
      ]
     },
     "metadata": {
      "needs_background": "light"
     },
     "output_type": "display_data"
    }
   ],
   "source": [
    "import seaborn as sns\n",
    "sns.distplot(amostra['ti'])"
   ]
  },
  {
   "cell_type": "code",
   "execution_count": 9,
   "metadata": {
    "colab": {
     "base_uri": "https://localhost:8080/"
    },
    "id": "pzSNIsBUOCph",
    "outputId": "48b90416-de73-4cc4-e807-84f14ec7ba02"
   },
   "outputs": [
    {
     "data": {
      "text/plain": [
       "NormaltestResult(statistic=19.45619563948598, pvalue=5.9585528740480225e-05)"
      ]
     },
     "execution_count": 9,
     "metadata": {},
     "output_type": "execute_result"
    }
   ],
   "source": [
    "normaltest(amostra['strength'])"
   ]
  },
  {
   "cell_type": "markdown",
   "metadata": {
    "id": "N2Qqho09OFrO"
   },
   "source": [
    "p valor maior que significancia 5%, entao NAO rejeita H0 (ser normal)"
   ]
  },
  {
   "cell_type": "markdown",
   "metadata": {
    "id": "odZFEMn9Pi55"
   },
   "source": [
    "# Teste de Hipotese"
   ]
  },
  {
   "cell_type": "markdown",
   "metadata": {
    "id": "04z082XC_QT6"
   },
   "source": [
    "##Teste Bicaudal"
   ]
  },
  {
   "cell_type": "markdown",
   "metadata": {
    "id": "CNpJ9vLG4iCf"
   },
   "source": [
    "A empresa Suco Bom produz sucos de frutas em embalagens de 500 ml. Seu processo de produção é quase todo automatizado e as embalagens de sucos são preenchidas por uma máquina que às vezes apresenta um certo desajuste, levando a erros no preenchimento das embalagens para mais ou menos conteúdo. Quando o volume médio cai abaixo de 500 ml, a empresa se preocupa em perder vendas e ter problemas com os orgãos fiscalizadores. Quando o volume passa de 500 ml, a empresa começa a se preocupar com prejuízos no processo de produção.\n",
    "\n",
    "O setor de controle de qualidade da empresa Suco Bom extrai, periodicamente, amostras de 50 embalagens para monitorar o processo de produção. Para cada amostra, é realizado um teste de hipóteses para avaliar se o maquinário se desajustou. A equipe de controle de qualidade assume um nível de significância de 5%.\n",
    "\n",
    "Suponha agora que uma amostra de 50 embalagens foi selecionada e que a média amostral observada foi de 503,24 ml e desvio padrao 4,48. Esse valor de média amostral é suficientemente maior que 500 ml para nos fazer rejeitar a hipótese de que a média do processo é de 500 ml ao nível de significância de 5%? \n",
    "\n"
   ]
  },
  {
   "cell_type": "code",
   "execution_count": 24,
   "metadata": {
    "colab": {
     "base_uri": "https://localhost:8080/"
    },
    "id": "OdUuSOyk4gdx",
    "outputId": "bc3260d2-2911-4511-86ef-a92642c38bdc"
   },
   "outputs": [
    {
     "name": "stdout",
     "output_type": "stream",
     "text": [
      "-1.9599639845400545\n"
     ]
    },
    {
     "data": {
      "text/plain": [
       "5.113897256795581"
      ]
     },
     "execution_count": 24,
     "metadata": {},
     "output_type": "execute_result"
    }
   ],
   "source": [
    "from scipy.stats import norm\n",
    "from numpy import sqrt\n",
    "#Hipotese de ser igual, significa um bicaudal com h0 da medias serem iguais\n",
    "#𝐻0:𝜇=500 \n",
    "#𝐻1:𝜇≠500\n",
    "u=500\n",
    "n =50\n",
    "sig=0.05\n",
    "z_sig_sob2 = norm.ppf(sig/2)\n",
    "print(z_sig_sob2)\n",
    "x=503.24\n",
    "s=4.48\n",
    "z=(x-u)/(s/sqrt(n))\n",
    "z"
   ]
  },
  {
   "cell_type": "code",
   "execution_count": 25,
   "metadata": {
    "colab": {
     "base_uri": "https://localhost:8080/"
    },
    "id": "4j6hQ5mU8sA2",
    "outputId": "f40ce372-29d2-4278-fbde-1f49b7aab027"
   },
   "outputs": [
    {
     "name": "stdout",
     "output_type": "stream",
     "text": [
      "0.9999998422104751\n",
      "3.155790497810784e-07\n",
      "rejeita h0\n"
     ]
    }
   ],
   "source": [
    "\n",
    "area=norm.cdf(z)\n",
    "print(area)\n",
    "pvalor=2*(1-area)\n",
    "print(pvalor)\n",
    "if (pvalor <= sig):\n",
    "    print('rejeita h0')\n",
    "else:\n",
    "    print('aceita h0')\n",
    "\n",
    "#Rejeitar  𝐻0  se o valor  𝑝≤𝛼"
   ]
  },
  {
   "cell_type": "code",
   "execution_count": 26,
   "metadata": {
    "colab": {
     "base_uri": "https://localhost:8080/"
    },
    "id": "4Iq6UJRF-5sw",
    "outputId": "89e21490-f03d-44e0-fc29-b50519bdd04e"
   },
   "outputs": [
    {
     "data": {
      "text/plain": [
       "(5.109559775991873, 3.229103172445772e-07)"
      ]
     },
     "execution_count": 26,
     "metadata": {},
     "output_type": "execute_result"
    }
   ],
   "source": [
    "from statsmodels.stats.weightstats import ztest\n",
    "amostra = [509, 505, 495, 510, 496, 509, 497, 502, 503, 505, \n",
    "           501, 505, 510, 505, 504, 497, 506, 506, 508, 505, \n",
    "           497, 504, 500, 498, 506, 496, 508, 497, 503, 501, \n",
    "           503, 506, 499, 498, 509, 507, 503, 499, 509, 495, \n",
    "           502, 505, 504, 509, 508, 501, 505, 497, 508, 507]\n",
    "ztest(x1 = amostra, value = u)\n"
   ]
  },
  {
   "cell_type": "markdown",
   "metadata": {
    "id": "--HynjhB72dd"
   },
   "source": [
    "Conclusão: Como a média amostral  𝑥¯  é significativamente maior que 500 ml, rejeitamos  𝐻0 . Neste caso, devem ser tomadas providências para ajustar o maquinário que preenche as embalagens.\n",
    "\n"
   ]
  },
  {
   "cell_type": "markdown",
   "metadata": {
    "id": "txQXbukABPmR"
   },
   "source": [
    "##Teste Unicaudal "
   ]
  },
  {
   "cell_type": "markdown",
   "metadata": {
    "id": "59AUpJk_BPug"
   },
   "source": [
    "Um famoso fabricante de refrigerantes alega que uma lata de 350 ml de seu principal produto contém, no máximo, 37 gramas de açúcar. Esta alegação nos leva a entender que a quantidade média de açúcar em uma lata de refrigerante deve ser igual ou menor que 37 g.\n",
    "Um consumidor desconfiado e com conhecimentos em inferência estatística resolve testar a alegação do fabricante e seleciona, aleatóriamente, em um conjunto de estabelecimentos distintos, uma amostra de 25 latas do refrigerante em questão. Assumindo que essa população se distribua aproximadamente como uma normal e considerando um nível de significância de 5%, é possível aceitar como válida a alegação do fabricante?\n",
    "\n"
   ]
  },
  {
   "cell_type": "code",
   "execution_count": 27,
   "metadata": {
    "colab": {
     "base_uri": "https://localhost:8080/"
    },
    "id": "fVpIgzEe-41C",
    "outputId": "ae4cbff8-e237-477d-8489-8a3290bd957a"
   },
   "outputs": [
    {
     "name": "stdout",
     "output_type": "stream",
     "text": [
      "1.7108820799094275\n"
     ]
    },
    {
     "data": {
      "text/plain": [
       "-3.9568374713288734"
      ]
     },
     "execution_count": 27,
     "metadata": {},
     "output_type": "execute_result"
    }
   ],
   "source": [
    "from scipy.stats import t as t_student\n",
    "from numpy import mean, std\n",
    "#𝐻0:𝜇≤37 \n",
    "#𝐻1:𝜇>37\n",
    "amostra = [37.27, 36.42, 34.84, 34.60, 37.49, \n",
    "           36.53, 35.49, 36.90, 34.52, 37.30, \n",
    "           34.99, 36.55, 36.29, 36.06, 37.42, \n",
    "           34.47, 36.70, 35.86, 36.80, 36.92, \n",
    "           37.04, 36.39, 37.32, 36.64, 35.45]\n",
    "n=25\n",
    "u=37\n",
    "x=mean(amostra) \n",
    "s=std(amostra)\n",
    "sig<-0.05\n",
    "conf = 1-sig\n",
    "graus_de_lib = n-1\n",
    "t_sig = t_student.ppf(conf, graus_de_lib)\n",
    "print(t_sig)\n",
    "t = (x - u) / (s / sqrt(n))\n",
    "t"
   ]
  },
  {
   "cell_type": "code",
   "execution_count": 28,
   "metadata": {
    "colab": {
     "base_uri": "https://localhost:8080/"
    },
    "id": "BAVur7oOPdYn",
    "outputId": "3964ca05-ef5b-42a7-b840-ecbf16d98da7"
   },
   "outputs": [
    {
     "data": {
      "text/plain": [
       "0.9997062063779475"
      ]
     },
     "execution_count": 28,
     "metadata": {},
     "output_type": "execute_result"
    }
   ],
   "source": [
    "pvalor = 1-t_student.cdf(t, df = graus_de_lib)\n",
    "pvalor\n",
    "#Rejeitar  𝐻0  se o valor  𝑝≤𝛼"
   ]
  },
  {
   "cell_type": "code",
   "execution_count": 29,
   "metadata": {
    "colab": {
     "base_uri": "https://localhost:8080/"
    },
    "id": "MmpPGfNtPuxE",
    "outputId": "64f4b523-3d63-468b-8c09-e94bc24cc954"
   },
   "outputs": [
    {
     "data": {
      "text/plain": [
       "(-3.876893119952081, 0.9996406170303819, 24.0)"
      ]
     },
     "execution_count": 29,
     "metadata": {},
     "output_type": "execute_result"
    }
   ],
   "source": [
    "from statsmodels.stats.weightstats import DescrStatsW\n",
    "test = DescrStatsW(amostra)\n",
    "test.ttest_mean(value = u, alternative = 'larger')"
   ]
  },
  {
   "cell_type": "markdown",
   "metadata": {
    "id": "yNb6PvW0PzlV"
   },
   "source": [
    "Conclusão: Com um nível de confiança de 95% não podemos rejeitar  𝐻0 , ou seja, a alegação do fabricante é verdadeira.\n"
   ]
  },
  {
   "cell_type": "markdown",
   "metadata": {
    "id": "aOg93gyoTIv1"
   },
   "source": [
    "##Teste duas amostras"
   ]
  },
  {
   "cell_type": "markdown",
   "metadata": {
    "id": "lGCbyXXmTNrt"
   },
   "source": [
    "Em nosso dataset temos os rendimento dos chefes de domicílio obtidos da Pesquisa Nacional por Amostra de Domicílios - PNAD no ano de 2015. Um problema bastante conhecido em nosso país diz respeito a desigualdade de renda, principalmente entre homens e mulheres.\n",
    "\n",
    "Duas amostras aleatórias, uma de 500 homens e outra com 500 mulheres, foram selecionadas em nosso dataset. Com o objetivo de comprovar tal desigualdade, teste a igualdade das médias entre estas duas amostras com um nível de significância de 1%."
   ]
  },
  {
   "cell_type": "code",
   "execution_count": 30,
   "metadata": {
    "id": "v_jt1klSP0U4"
   },
   "outputs": [],
   "source": [
    "homens = [300, 1000, 4000, 5000, 300, 350, 1200, 1200, 1100, 1800, 700, 5000, 250, 1560, 400, 5500, 3000, 0, 1100, 1500, 500, 500, 788, 500, 3000, 788, 2400, 788, 3300, 1350, 2500, 2000, 1300, 2430, 9000, 10120, 1380, 2000, 1400, 1000, 500, 1500, 2200, 2100, 4000, 1000, 1200, 2900, 1800, 2000, 788, 1576, 800, 2400, 788, 788, 788, 0, 12000, 7880, 850, 1000, 1000, 1600, 3800, 788, 1200, 300, 350, 700, 6000, 1500, 5000, 2000, 1200, 800, 250, 800, 1600, 400, 3000, 2304, 800, 1400, 450, 788, 2200, 6000, 1200, 4000, 6000, 1100, 1200, 1300, 3000, 3000, 1500, 1280, 788, 1400, 788, 4000, 0, 1000, 2500, 1300, 3000, 500, 1600, 2000, 1280, 150, 0, 0, 7000, 1061, 700, 788, 2000, 788, 10500, 788, 1600, 1050, 1100, 3000, 800, 1400, 1200, 2500, 1000, 1500, 1500, 900, 2000, 300, 3000, 788, 1400, 2000, 2000, 3000, 2600, 15000, 1500, 950, 1200, 1500, 7500, 1400, 350, 750, 1200, 788, 0, 2500, 1700, 788, 700, 1600, 1200, 320, 6000, 2000, 2000, 3000, 900, 2100, 0, 788, 1800, 1600, 4000, 1300, 1300, 1500, 8900, 1400, 788, 600, 1000, 950, 2000, 4000, 2300, 2000, 800, 2500, 1500, 1400, 800, 6000, 788, 900, 200, 1300, 788, 2600, 1500, 8000, 900, 2000, 2000, 350, 3000, 9580, 0, 400, 800, 1700, 1800, 1200, 18000, 9000, 3000, 1200, 700, 1200, 400, 987, 6000, 2000, 0, 0, 480, 500, 800, 1680, 10000, 1200, 1700, 788, 2200, 10000, 10000, 100, 1200, 1600, 2500, 1300, 1200, 1300, 2200, 200, 60, 1100, 1200, 6000, 4500, 100, 788, 2900, 2500, 900, 788, 2500, 4000, 788, 1400, 1000, 300, 788, 1000, 4000, 2200, 788, 1000, 1000, 600, 1600, 6000, 2500, 2500, 1000, 3000, 2200, 4500, 1500, 4300, 1500, 8500, 3200, 1200, 1200, 1500, 4000, 2000, 1350, 1500, 890, 5000, 2400, 13000, 800, 1500, 1500, 2000, 580, 500, 920, 1200, 2000, 788, 500, 20000, 1350, 1576, 500, 8000, 1800, 600, 1000, 3000, 4000, 1500, 788, 600, 2300, 1500, 500, 500, 800, 900, 8000, 1600, 3000, 788, 1500, 5200, 900, 3565, 650, 1700, 1600, 788, 1200, 788, 788, 100, 900, 1700, 10000, 1600, 200, 788, 1400, 1500, 400, 4200, 1400, 4000, 5516, 3500, 700, 1400, 1200, 0, 7000, 2000, 5000, 2000, 750, 3000, 2000, 1500, 200, 3000, 1700, 1500, 7000, 1500, 788, 2400, 2500, 1500, 2000, 1500, 2000, 1100, 800, 1800, 480, 3500, 700, 3400, 5000, 5000, 1300, 3000, 2000, 900, 2000, 1000, 1800, 0, 1500, 788, 3500, 875, 5000, 2000, 1300, 1600, 0, 750, 1200, 120, 1800, 1200, 788, 1000, 0, 1400, 2300, 7000, 4000, 5000, 788, 20000, 4000, 0, 1200, 1800, 500, 1000, 788, 1300, 5000, 50, 1700, 2000, 1600, 2000, 1350, 1500, 600, 1700, 780, 2446, 2100, 5000, 1700, 1200, 1000, 788, 4500, 1500, 788, 0, 1580, 1000, 4500, 2400, 788, 1100, 2000, 788, 100, 1200, 1200, 1200, 1000, 2000, 788, 2000, 15000, 600, 0, 1500, 3000, 4000, 900, 810, 600, 1500, 4000, 1200, 5000, 5300, 2500, 800, 0, 1400, 1500, 4000, 1200, 400, 1000, 820, 1000, 1000, 788, 1500, 2500, 1500, 220, 600, 788, 1750, 7000]\n",
    "mulheres = [788, 1200, 6000, 1000, 788, 1100, 1900, 1577, 900, 950, 1200, 788, 788, 1100, 30, 620, 900, 1000, 1200, 2000, 0, 500, 1200, 1500, 1200, 1120, 788, 788, 2300, 2400, 3000, 788, 4000, 1000, 500, 500, 1700, 200, 6000, 400, 950, 1100, 50, 930, 850, 1100, 3500, 1500, 1200, 900, 1100, 1500, 788, 1000, 788, 4500, 4000, 8000, 3500, 788, 1050, 1000, 1400, 3500, 600, 3000, 500, 930, 2660, 788, 360, 2364, 788, 160, 1100, 1085, 1050, 1500, 100, 0, 788, 250, 1700, 1300, 800, 0, 2000, 820, 910, 300, 2000, 200, 788, 788, 800, 1500, 1300, 1200, 0, 600, 1036, 400, 1100, 788, 400, 1500, 1200, 1800, 1000, 788, 850, 60, 1800, 3500, 600, 200, 500, 200, 1100, 1540, 1100, 900, 800, 500, 200, 1200, 1250, 788, 500, 200, 788, 200, 0, 1800, 2000, 1000, 900, 3000, 700, 1200, 788, 2800, 3300, 400, 0, 850, 1022, 6000, 750, 1000, 3500, 400, 1500, 1000, 800, 0, 980, 2400, 850, 1100, 788, 1100, 788, 1200, 788, 864, 1000, 500, 400, 3000, 1200, 100, 80, 900, 2000, 1250, 1000, 300, 400, 1500, 60, 8000, 1000, 600, 800, 350, 788, 0, 600, 788, 2500, 1300, 800, 8000, 1100, 800, 900, 2000, 0, 800, 1400, 1000, 1200, 788, 3840, 788, 3940, 788, 560, 800, 2000, 600, 2900, 0, 400, 800, 7000, 788, 788, 788, 788, 1250, 1500, 1386, 100, 300, 788, 788, 600, 600, 900, 2800, 788, 350, 900, 0, 150, 788, 788, 1000, 30, 788, 780, 900, 0, 0, 3000, 1800, 2000, 1100, 788, 0, 7500, 1800, 788, 788, 2000, 3000, 180, 2500, 800, 0, 1250, 200, 1100, 0, 1100, 400, 1300, 300, 0, 1312, 600, 200, 4000, 2400, 12000, 2150, 500, 400, 0, 600, 400, 788, 1200, 500, 2000, 1500, 70, 500, 2000, 1000, 100, 500, 2000, 100, 2115, 800, 5800, 2300, 750, 788, 0, 900, 1000, 600, 3000, 5500, 1600, 788, 4000, 0, 1100, 120, 320, 1100, 2500, 200, 800, 3000, 550, 4200, 7000, 720, 0, 2000, 5000, 2000, 788, 500, 788, 7000, 500, 788, 1760, 1200, 3500, 1500, 150, 800, 788, 3000, 400, 788, 1000, 2000, 2500, 0, 788, 5200, 788, 0, 600, 1300, 120, 850, 1576, 788, 2000, 1300, 788, 800, 1800, 655, 1580, 789, 788, 850, 788, 7000, 788, 430, 800, 788, 900, 10000, 1200, 300, 400, 788, 788, 3000, 900, 1300, 1300, 788, 800, 1000, 1890, 0, 788, 900, 4000, 788, 1010, 150, 450, 1700, 890, 1200, 2800, 1000, 788, 788, 700, 600, 800, 880, 6000, 800, 800, 820, 788, 1030, 560, 2100, 6500, 2500, 788, 400, 300, 788, 2300, 1000, 3500, 984, 1576, 420, 1700, 450, 1800, 400, 1500, 1500, 4256, 1200, 890, 1200, 300, 400, 850, 1500, 3800, 1800, 996, 2000, 1000, 788, 1500, 300, 600, 950, 1200, 788, 1200, 1500, 250, 788, 1200, 6000, 300, 789, 1500, 788, 3800, 780, 1200, 1200, 220, 788, 500, 200, 480, 1576, 1576, 1035, 900, 800, 1000, 805, 200, 1200, 2220, 1500, 880, 220, 2000, 788, 150, 0, 13000, 40, 5500, 788, 788, 1000, 400, 2000, 200, 1600]"
   ]
  },
  {
   "cell_type": "code",
   "execution_count": 31,
   "metadata": {
    "colab": {
     "base_uri": "https://localhost:8080/"
    },
    "id": "nCy3U1cTTMiP",
    "outputId": "59f31ef8-249e-40f3-94cd-e957c362620b"
   },
   "outputs": [
    {
     "name": "stdout",
     "output_type": "stream",
     "text": [
      "2142.608\n",
      "2545.5014763963504\n",
      "1357.528\n",
      "1568.330503821181\n"
     ]
    }
   ],
   "source": [
    "from numpy import mean, std\n",
    "xH = mean(homens)\n",
    "sH = std(homens)\n",
    "xM = mean(mulheres)\n",
    "sM = std(mulheres)\n",
    "print(xH)\n",
    "print(sH)\n",
    "print(xM)\n",
    "print(sM)"
   ]
  },
  {
   "cell_type": "code",
   "execution_count": 32,
   "metadata": {
    "colab": {
     "base_uri": "https://localhost:8080/"
    },
    "id": "suEr04WiUZKd",
    "outputId": "b7ab1cf1-1f15-464b-da8c-7f636b2f8618"
   },
   "outputs": [
    {
     "name": "stdout",
     "output_type": "stream",
     "text": [
      "2.3263478740408408\n"
     ]
    },
    {
     "data": {
      "text/plain": [
       "5.871494490942365"
      ]
     },
     "execution_count": 32,
     "metadata": {},
     "output_type": "execute_result"
    }
   ],
   "source": [
    "\n",
    "#𝜇1⇒  Média das rendas dos chefes de domicílios do sexo masculino\n",
    "#𝜇2⇒  Média das rendas dos chefes de domicílios do sexo feminino\n",
    "#{𝐻0:𝜇1≤𝜇2\n",
    "#𝐻1:𝜇1>𝜇2 \n",
    "#ou\n",
    "#{𝐻0:𝜇1−𝜇2≤0\n",
    "#𝐻1:𝜇1−𝜇2>0 \n",
    "sig = 0.01\n",
    "conf = 1 - sig\n",
    "z_sig = norm.ppf(conf)\n",
    "print(z_sig)\n",
    "nM = 500\n",
    "nH = 500\n",
    "D0 = 0\n",
    "numerador = (xH - xM) - D0\n",
    "denominador = sqrt((sH ** 2 / nH) + (sM ** 2 / nM))\n",
    "z = numerador / denominador\n",
    "z"
   ]
  },
  {
   "cell_type": "code",
   "execution_count": 33,
   "metadata": {
    "colab": {
     "base_uri": "https://localhost:8080/"
    },
    "id": "bvdHskeEXSSE",
    "outputId": "e1d95a24-10cf-4a6b-9624-421e1a5e0a32"
   },
   "outputs": [
    {
     "data": {
      "text/plain": [
       "2.1594197541219273e-09"
      ]
     },
     "execution_count": 33,
     "metadata": {},
     "output_type": "execute_result"
    }
   ],
   "source": [
    "\n",
    "p_valor = 1-norm.cdf(z)\n",
    "p_valor\n",
    "#Rejeitar  𝐻0  se o valor  𝑝≤𝛼"
   ]
  },
  {
   "cell_type": "code",
   "execution_count": 34,
   "metadata": {
    "colab": {
     "base_uri": "https://localhost:8080/"
    },
    "id": "BuyxOwDxYh3F",
    "outputId": "9a945edc-b3a9-4f4f-a471-49e9375dd876"
   },
   "outputs": [
    {
     "data": {
      "text/plain": [
       "(5.8656200577647555, 2.2372867859458094e-09)"
      ]
     },
     "execution_count": 34,
     "metadata": {},
     "output_type": "execute_result"
    }
   ],
   "source": [
    "from statsmodels.stats.weightstats import CompareMeans\n",
    "comparador_medias = CompareMeans(DescrStatsW(homens), DescrStatsW(mulheres))\n",
    "comparador_medias.ztest_ind(alternative='larger', value=0)"
   ]
  },
  {
   "cell_type": "markdown",
   "metadata": {
    "id": "IikMl61xXH2R"
   },
   "source": [
    "Conclusão: Com um nível de confiança de 99% rejeitamos  𝐻0 , isto é, concluímos que a média das rendas dos chefes de domicílios do sexo masculino é maior que a média das rendas das chefes de domicílios do sexo feminino. Confirmando a alegação de desigualdade de renda entre os sexos."
   ]
  },
  {
   "cell_type": "markdown",
   "metadata": {
    "id": "C4eLc61dXIb6"
   },
   "source": [
    "#Testes Nao Parametricos"
   ]
  },
  {
   "cell_type": "markdown",
   "metadata": {
    "id": "rjtuyYWsf_BZ"
   },
   "source": [
    "##Teste do Qui-Quadrado (  𝜒2 )"
   ]
  },
  {
   "cell_type": "code",
   "execution_count": 35,
   "metadata": {
    "colab": {
     "base_uri": "https://localhost:8080/"
    },
    "id": "mD_sHbZCXIjU",
    "outputId": "2bfb7436-4f02-4456-fe84-de894be56da9"
   },
   "outputs": [
    {
     "name": "stdout",
     "output_type": "stream",
     "text": [
      "3.8414588206941245\n"
     ]
    },
    {
     "data": {
      "text/plain": [
       "5.12"
      ]
     },
     "execution_count": 35,
     "metadata": {},
     "output_type": "execute_result"
    }
   ],
   "source": [
    "from scipy.stats import chi\n",
    "#𝐻0:𝐹𝐶𝐴𝑅𝐴=𝐹𝐶𝑂𝑅𝑂𝐴 \n",
    "#𝐻1:𝐹𝐶𝐴𝑅𝐴≠𝐹𝐶𝑂𝑅𝑂𝐴\n",
    "Fobs =[17, 33]\n",
    "Fesp =[25, 25]\n",
    "sig  = 0.05\n",
    "conf = 1 - sig \n",
    "k = 2 # Número de eventos possíveis\n",
    "graus_de_lib = k - 1\n",
    "chi_2_sig = chi.ppf(conf, graus_de_lib) ** 2\n",
    "print(chi_2_sig)\n",
    "chi_2 = 0\n",
    "for i in range(0,k,1):\n",
    "    chi_2=chi_2+(Fobs[i]-Fesp[i])**2/Fesp[i] \n",
    "\n",
    "chi_2"
   ]
  },
  {
   "cell_type": "code",
   "execution_count": 36,
   "metadata": {
    "colab": {
     "base_uri": "https://localhost:8080/"
    },
    "id": "_pAFpsf-xXjc",
    "outputId": "80b162cf-a6cc-4ccb-8ed6-ff88393de2ae"
   },
   "outputs": [
    {
     "data": {
      "text/plain": [
       "0.023651616655355978"
      ]
     },
     "execution_count": 36,
     "metadata": {},
     "output_type": "execute_result"
    }
   ],
   "source": [
    "from numpy import sqrt\n",
    "1-chi.cdf(sqrt(chi_2), df=graus_de_lib)\n",
    "#Rejeitar  𝐻0  se o valor  𝑝≤𝛼"
   ]
  },
  {
   "cell_type": "code",
   "execution_count": 37,
   "metadata": {
    "colab": {
     "base_uri": "https://localhost:8080/"
    },
    "id": "yUwOqGJ7xwRL",
    "outputId": "5c41ae70-1931-4aea-bae0-2ab04e1497b7"
   },
   "outputs": [
    {
     "data": {
      "text/plain": [
       "Power_divergenceResult(statistic=5.12, pvalue=0.023651616655356)"
      ]
     },
     "execution_count": 37,
     "metadata": {},
     "output_type": "execute_result"
    }
   ],
   "source": [
    "from scipy.stats import chisquare\n",
    "chisquare(f_obs=Fobs, f_exp=Fesp)"
   ]
  },
  {
   "cell_type": "markdown",
   "metadata": {
    "id": "XxWVhtzQxO51"
   },
   "source": [
    "Conclusão: Com um nível de confiança de 95% rejeitamos a hipótese nula ( 𝐻0 ) e concluímos que as frequências observadas e esperadas são discrepantes, ou seja, a moeda não é honesta e precisa ser substituída."
   ]
  },
  {
   "cell_type": "markdown",
   "metadata": {
    "id": "a8was04ggobJ"
   },
   "source": [
    "#Teste Pareado (Teste Wilcoxon)"
   ]
  },
  {
   "cell_type": "code",
   "execution_count": 38,
   "metadata": {
    "colab": {
     "base_uri": "https://localhost:8080/",
     "height": 198
    },
    "id": "mzHo1e_f_vSn",
    "outputId": "3405d1d1-9a86-4c7a-cb8c-518d4d980fed"
   },
   "outputs": [
    {
     "data": {
      "text/html": [
       "<div>\n",
       "<style scoped>\n",
       "    .dataframe tbody tr th:only-of-type {\n",
       "        vertical-align: middle;\n",
       "    }\n",
       "\n",
       "    .dataframe tbody tr th {\n",
       "        vertical-align: top;\n",
       "    }\n",
       "\n",
       "    .dataframe thead th {\n",
       "        text-align: right;\n",
       "    }\n",
       "</style>\n",
       "<table border=\"1\" class=\"dataframe\">\n",
       "  <thead>\n",
       "    <tr style=\"text-align: right;\">\n",
       "      <th></th>\n",
       "      <th>Antes</th>\n",
       "      <th>Depois</th>\n",
       "    </tr>\n",
       "  </thead>\n",
       "  <tbody>\n",
       "    <tr>\n",
       "      <th>0</th>\n",
       "      <td>39</td>\n",
       "      <td>16</td>\n",
       "    </tr>\n",
       "    <tr>\n",
       "      <th>1</th>\n",
       "      <td>25</td>\n",
       "      <td>8</td>\n",
       "    </tr>\n",
       "    <tr>\n",
       "      <th>2</th>\n",
       "      <td>24</td>\n",
       "      <td>12</td>\n",
       "    </tr>\n",
       "    <tr>\n",
       "      <th>3</th>\n",
       "      <td>50</td>\n",
       "      <td>0</td>\n",
       "    </tr>\n",
       "    <tr>\n",
       "      <th>4</th>\n",
       "      <td>13</td>\n",
       "      <td>14</td>\n",
       "    </tr>\n",
       "  </tbody>\n",
       "</table>\n",
       "</div>"
      ],
      "text/plain": [
       "   Antes  Depois\n",
       "0     39      16\n",
       "1     25       8\n",
       "2     24      12\n",
       "3     50       0\n",
       "4     13      14"
      ]
     },
     "execution_count": 38,
     "metadata": {},
     "output_type": "execute_result"
    }
   ],
   "source": [
    "import pandas as pd\n",
    "fumo = {\n",
    "    'Antes': [39, 25, 24, 50, 13, 52, 21, 29, 10, 22, 50, 15, 36, 39, 52, 48, 24, 15, 40, 41, 17, 12, 21, 49, 14, 55, 46, 22, 28, 23, 37, 17, 31, 49, 49],\n",
    "    'Depois': [16, 8, 12, 0, 14, 16, 13, 12, 19, 17, 17, 2, 15, 10, 20, 13, 0, 4, 16, 18, 16, 16, 9, 9, 18, 4, 17, 0, 11, 14, 0, 19, 2, 9, 6]\n",
    "}\n",
    "fumo = pd.DataFrame(fumo)\n",
    "fumo.head()"
   ]
  },
  {
   "cell_type": "code",
   "execution_count": 39,
   "metadata": {
    "colab": {
     "base_uri": "https://localhost:8080/"
    },
    "id": "HQUGX3Vk_0CC",
    "outputId": "85411a1e-2d22-4c9d-b6ed-4c57635f3f7b"
   },
   "outputs": [
    {
     "data": {
      "text/plain": [
       "WilcoxonResult(statistic=22.0, pvalue=1.584310018505865e-06)"
      ]
     },
     "execution_count": 39,
     "metadata": {},
     "output_type": "execute_result"
    }
   ],
   "source": [
    "from scipy.stats import wilcoxon\n",
    "significancia = 0.05\n",
    "confianca = 1 - significancia\n",
    "n = 35\n",
    "wilcoxon(fumo['Antes'], fumo['Depois'])"
   ]
  },
  {
   "cell_type": "markdown",
   "metadata": {
    "id": "R5wxM0ng03sB"
   },
   "source": [
    "Conclusão: Rejeitamos a hipótese de que não existe diferença entre os grupos, isto é, existe uma diferença entre as médias de cigarros fumados pelos pacientes antes e depois do tratamento. E como é possível verificar através das médias de cigarros fumados por dia antes (31.86) e depois (11.2) do tratamento, podemos concluir que o tratamento apresentou resultado satisfatório."
   ]
  },
  {
   "cell_type": "code",
   "execution_count": null,
   "metadata": {},
   "outputs": [],
   "source": []
  }
 ],
 "metadata": {
  "colab": {
   "name": "Estatistica Python - 4 e 5.ipynb",
   "provenance": []
  },
  "kernelspec": {
   "display_name": "Python 3 (ipykernel)",
   "language": "python",
   "name": "python3"
  },
  "language_info": {
   "codemirror_mode": {
    "name": "ipython",
    "version": 3
   },
   "file_extension": ".py",
   "mimetype": "text/x-python",
   "name": "python",
   "nbconvert_exporter": "python",
   "pygments_lexer": "ipython3",
   "version": "3.9.12"
  }
 },
 "nbformat": 4,
 "nbformat_minor": 1
}
